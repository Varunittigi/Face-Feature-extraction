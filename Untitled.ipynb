{
 "cells": [
  {
   "cell_type": "code",
   "execution_count": 1,
   "metadata": {},
   "outputs": [],
   "source": [
    "import numpy as np"
   ]
  },
  {
   "cell_type": "code",
   "execution_count": 4,
   "metadata": {},
   "outputs": [
    {
     "data": {
      "text/plain": [
       "'D:\\\\Detect-Facial-Features-master'"
      ]
     },
     "execution_count": 4,
     "metadata": {},
     "output_type": "execute_result"
    }
   ],
   "source": [
    "pwd"
   ]
  },
  {
   "cell_type": "code",
   "execution_count": 5,
   "metadata": {},
   "outputs": [],
   "source": [
    "a = np.random.normal(0,1,100)\n",
    "np.save('DATA.npy', a)"
   ]
  },
  {
   "cell_type": "code",
   "execution_count": 8,
   "metadata": {},
   "outputs": [
    {
     "ename": "ValueError",
     "evalue": "Object arrays cannot be loaded when allow_pickle=False",
     "output_type": "error",
     "traceback": [
      "\u001b[1;31m---------------------------------------------------------------------------\u001b[0m",
      "\u001b[1;31mValueError\u001b[0m                                Traceback (most recent call last)",
      "\u001b[1;32m<ipython-input-8-60ead8e91cf4>\u001b[0m in \u001b[0;36m<module>\u001b[1;34m\u001b[0m\n\u001b[1;32m----> 1\u001b[1;33m \u001b[0mdata\u001b[0m \u001b[1;33m=\u001b[0m \u001b[0mnp\u001b[0m\u001b[1;33m.\u001b[0m\u001b[0mload\u001b[0m\u001b[1;33m(\u001b[0m\u001b[1;34m'gg.npy'\u001b[0m\u001b[1;33m)\u001b[0m\u001b[1;33m\u001b[0m\u001b[1;33m\u001b[0m\u001b[0m\n\u001b[0m",
      "\u001b[1;32m~\\Anaconda3\\lib\\site-packages\\numpy\\lib\\npyio.py\u001b[0m in \u001b[0;36mload\u001b[1;34m(file, mmap_mode, allow_pickle, fix_imports, encoding)\u001b[0m\n\u001b[0;32m    445\u001b[0m             \u001b[1;32melse\u001b[0m\u001b[1;33m:\u001b[0m\u001b[1;33m\u001b[0m\u001b[1;33m\u001b[0m\u001b[0m\n\u001b[0;32m    446\u001b[0m                 return format.read_array(fid, allow_pickle=allow_pickle,\n\u001b[1;32m--> 447\u001b[1;33m                                          pickle_kwargs=pickle_kwargs)\n\u001b[0m\u001b[0;32m    448\u001b[0m         \u001b[1;32melse\u001b[0m\u001b[1;33m:\u001b[0m\u001b[1;33m\u001b[0m\u001b[1;33m\u001b[0m\u001b[0m\n\u001b[0;32m    449\u001b[0m             \u001b[1;31m# Try a pickle\u001b[0m\u001b[1;33m\u001b[0m\u001b[1;33m\u001b[0m\u001b[1;33m\u001b[0m\u001b[0m\n",
      "\u001b[1;32m~\\Anaconda3\\lib\\site-packages\\numpy\\lib\\format.py\u001b[0m in \u001b[0;36mread_array\u001b[1;34m(fp, allow_pickle, pickle_kwargs)\u001b[0m\n\u001b[0;32m    690\u001b[0m         \u001b[1;31m# The array contained Python objects. We need to unpickle the data.\u001b[0m\u001b[1;33m\u001b[0m\u001b[1;33m\u001b[0m\u001b[1;33m\u001b[0m\u001b[0m\n\u001b[0;32m    691\u001b[0m         \u001b[1;32mif\u001b[0m \u001b[1;32mnot\u001b[0m \u001b[0mallow_pickle\u001b[0m\u001b[1;33m:\u001b[0m\u001b[1;33m\u001b[0m\u001b[1;33m\u001b[0m\u001b[0m\n\u001b[1;32m--> 692\u001b[1;33m             raise ValueError(\"Object arrays cannot be loaded when \"\n\u001b[0m\u001b[0;32m    693\u001b[0m                              \"allow_pickle=False\")\n\u001b[0;32m    694\u001b[0m         \u001b[1;32mif\u001b[0m \u001b[0mpickle_kwargs\u001b[0m \u001b[1;32mis\u001b[0m \u001b[1;32mNone\u001b[0m\u001b[1;33m:\u001b[0m\u001b[1;33m\u001b[0m\u001b[1;33m\u001b[0m\u001b[0m\n",
      "\u001b[1;31mValueError\u001b[0m: Object arrays cannot be loaded when allow_pickle=False"
     ]
    }
   ],
   "source": [
    "data = np.load('gg.npy')"
   ]
  },
  {
   "cell_type": "code",
   "execution_count": 7,
   "metadata": {},
   "outputs": [
    {
     "data": {
      "text/plain": [
       "array([-7.68933748e-01,  2.65871615e-01,  2.92814718e-01,  6.09947618e-01,\n",
       "       -2.69866934e-01, -1.94076014e-01, -7.05349375e-01, -9.28405075e-01,\n",
       "       -1.67751591e+00, -1.53418372e-01,  1.78537653e+00, -1.77587513e-01,\n",
       "       -1.19205269e+00, -1.03650474e+00,  9.29924877e-01, -4.20385054e-01,\n",
       "       -2.62621767e+00,  5.95259167e-01, -3.66527845e-01, -1.76123884e+00,\n",
       "        1.29045041e+00, -9.36558661e-01,  5.08995242e-01,  4.23774937e-01,\n",
       "       -3.54082260e-01,  6.01820098e-01, -3.91763601e-01, -1.88592283e+00,\n",
       "        2.90075743e-01, -1.47949065e-01, -1.04173773e+00, -8.74866314e-01,\n",
       "        1.86391214e+00, -5.98629569e-01,  4.03621319e-01, -1.32061419e+00,\n",
       "        7.43327513e-01, -5.89859607e-01,  2.84644429e-01, -2.67300868e-01,\n",
       "        1.02497514e+00, -7.56279508e-01,  1.32766797e+00, -3.92577708e-02,\n",
       "       -8.84085385e-01, -1.09659452e+00,  1.63922558e+00,  1.28043135e+00,\n",
       "       -2.02676342e-01,  2.27229174e+00,  2.02410668e-02, -1.64321662e+00,\n",
       "       -1.68143190e-01, -1.64258839e+00,  1.29545695e+00,  1.15217295e+00,\n",
       "        1.67226788e+00,  6.43852519e-01,  6.83055944e-01,  4.05922566e-01,\n",
       "        2.04595014e-01, -4.47492057e-01, -1.52970871e+00,  1.09312483e-01,\n",
       "        4.12318567e-01, -4.59199780e-01, -9.81911440e-01, -2.14401757e-01,\n",
       "       -1.63729584e+00, -8.74749548e-03, -2.65201628e+00,  1.10976177e+00,\n",
       "       -4.61918081e-01,  1.49000954e+00, -9.71974963e-02, -3.18121987e-01,\n",
       "        2.19918796e+00, -4.00381259e-01,  1.84542687e-01,  1.53554796e+00,\n",
       "       -5.74428585e-02,  6.91787612e-01,  7.60432323e-01, -1.78739611e+00,\n",
       "       -1.70290102e+00, -6.65952164e-01,  1.59308710e-01,  8.01681132e-01,\n",
       "        1.33215365e+00,  6.51225917e-02,  2.08623270e+00, -1.67783012e+00,\n",
       "        1.78572235e+00, -1.20816973e+00,  6.64307218e-01, -2.16321404e+00,\n",
       "        6.63420214e-04,  7.63534926e-01, -4.03149911e-01,  6.06015510e-01])"
      ]
     },
     "execution_count": 7,
     "metadata": {},
     "output_type": "execute_result"
    }
   ],
   "source": [
    "\n"
   ]
  },
  {
   "cell_type": "code",
   "execution_count": null,
   "metadata": {},
   "outputs": [],
   "source": []
  }
 ],
 "metadata": {
  "kernelspec": {
   "display_name": "Python 3",
   "language": "python",
   "name": "python3"
  },
  "language_info": {
   "codemirror_mode": {
    "name": "ipython",
    "version": 3
   },
   "file_extension": ".py",
   "mimetype": "text/x-python",
   "name": "python",
   "nbconvert_exporter": "python",
   "pygments_lexer": "ipython3",
   "version": "3.6.7"
  }
 },
 "nbformat": 4,
 "nbformat_minor": 2
}
